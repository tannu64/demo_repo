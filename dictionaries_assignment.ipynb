{
  "cells": [
    {
      "cell_type": "markdown",
      "metadata": {
        "id": "view-in-github",
        "colab_type": "text"
      },
      "source": [
        "<a href=\"https://colab.research.google.com/github/tannu64/demo_repo/blob/main/dictionaries_assignment.ipynb\" target=\"_parent\"><img src=\"https://colab.research.google.com/assets/colab-badge.svg\" alt=\"Open In Colab\"/></a>"
      ]
    },
    {
      "cell_type": "markdown",
      "metadata": {
        "id": "Im_cAzIhUCkl"
      },
      "source": [
        "# Module 3: Data Structures Assignments\n",
        "## Lesson 3.4: Dictionaries\n",
        "### Assignment 1: Creating and Accessing Dictionaries\n",
        "\n",
        "Create a dictionary with the first 10 positive integers as keys and their squares as values. Print the dictionary.\n",
        "\n",
        "\n",
        "\n",
        "\n",
        "### Assignment 2: Accessing Dictionary Elements\n",
        "\n",
        "Print the value of the key 5 and the keys of the dictionary created in Assignment 1.\n",
        "\n",
        "### Assignment 3: Dictionary Methods\n",
        "\n",
        "Add a new key-value pair (11, 121) to the dictionary created in Assignment 1 and then remove the key-value pair with key 1. Print the modified dictionary.\n",
        "\n",
        "### Assignment 4: Iterating Over Dictionaries\n",
        "\n",
        "Iterate over the dictionary created in Assignment 1 and print each key-value pair.\n",
        "\n",
        "### Assignment 5: Dictionary Comprehensions\n",
        "\n",
        "Create a new dictionary containing the cubes of the first 10 positive integers using a dictionary comprehension. Print the new dictionary.\n",
        "\n",
        "### Assignment 6: Merging Dictionaries\n",
        "\n",
        "Create two dictionaries: one with keys as the first 5 positive integers and values as their squares, and another with keys as the next 5 positive integers and values as their squares. Merge these dictionaries into a single dictionary and print it.\n",
        "\n",
        "### Assignment 7: Nested Dictionaries\n",
        "\n",
        "Create a nested dictionary representing a student with keys 'name', 'age', 'grades', where 'grades' is another dictionary with keys 'math', 'science', and 'english'. Print the nested dictionary.\n",
        "\n",
        "### Assignment 8: Dictionary of Lists\n",
        "\n",
        "Create a dictionary where the keys are the first 5 positive integers and the values are lists containing the first 5 multiples of the key. Print the dictionary.\n",
        "\n",
        "### Assignment 9: Dictionary of Tuples\n",
        "\n",
        "Create a dictionary where the keys are the first 5 positive integers and the values are tuples containing the key and its square. Print the dictionary.\n",
        "\n",
        "### Assignment 10: Dictionary and List Conversion\n",
        "\n",
        "Create a dictionary with the first 5 positive integers as keys and their squares as values. Convert the dictionary to a list of tuples and print it.\n",
        "\n",
        "### Assignment 11: Dictionary Filtering\n",
        "\n",
        "Create a dictionary with the first 10 positive integers as keys and their squares as values. Create a new dictionary containing only the key-value pairs where the key is even. Print the new dictionary.\n",
        "\n",
        "### Assignment 12: Dictionary Key and Value Transformation\n",
        "\n",
        "Create a dictionary with the first 5 positive integers as keys and their squares as values. Create a new dictionary with keys and values swapped. Print the new dictionary.\n",
        "\n",
        "### Assignment 13: Default Dictionary\n",
        "\n",
        "Create a default dictionary where each key has a default value of an empty list. Add some elements to the lists and print the dictionary.\n",
        "\n",
        "### Assignment 14: Counting with Dictionaries\n",
        "\n",
        "Write a function that takes a string and returns a dictionary with the count of each character in the string. Print the dictionary.\n",
        "\n",
        "### Assignment 15: Dictionary and JSON\n",
        "\n",
        "Create a dictionary representing a book with keys 'title', 'author', 'year', and 'genre'. Convert the dictionary to a JSON string and print it."
      ],
      "id": "Im_cAzIhUCkl"
    },
    {
      "cell_type": "code",
      "execution_count": null,
      "metadata": {
        "colab": {
          "base_uri": "https://localhost:8080/"
        },
        "id": "OGADtetjUCkq",
        "outputId": "b8c344c2-d003-4e3d-b3b2-c6a1da597368"
      },
      "outputs": [
        {
          "output_type": "stream",
          "name": "stdout",
          "text": [
            "{1: 1, 2: 4, 3: 9, 4: 16, 5: 25, 6: 36, 7: 49, 8: 64, 9: 81, 10: 100}\n"
          ]
        }
      ],
      "source": [
        "# Create a dictionary with keys as integers and values as their squares\n",
        "squares_dict = {x: x**2 for x in range(1, 11)}\n",
        "print(squares_dict)\n"
      ],
      "id": "OGADtetjUCkq"
    },
    {
      "cell_type": "code",
      "source": [
        "# Accessing the value of key 5\n",
        "print(squares_dict[5])\n",
        "\n",
        "# Accessing the keys of the dictionary\n",
        "print(squares_dict.keys())\n"
      ],
      "metadata": {
        "colab": {
          "base_uri": "https://localhost:8080/"
        },
        "id": "mCpueoN3VKIS",
        "outputId": "940add14-e34d-42c3-cf9c-666289348ca6"
      },
      "id": "mCpueoN3VKIS",
      "execution_count": null,
      "outputs": [
        {
          "output_type": "stream",
          "name": "stdout",
          "text": [
            "25\n",
            "dict_keys([1, 2, 3, 4, 5, 6, 7, 8, 9, 10])\n"
          ]
        }
      ]
    },
    {
      "cell_type": "code",
      "source": [
        "# Add a new key-value pair\n",
        "squares_dict[11] = 121\n",
        "\n",
        "# Remove the key-value pair with key 1\n",
        "squares_dict.pop(1)\n",
        "\n",
        "# Print the modified dictionary\n",
        "print(squares_dict)\n"
      ],
      "metadata": {
        "colab": {
          "base_uri": "https://localhost:8080/"
        },
        "id": "VwkzicO8VYyx",
        "outputId": "97f91a06-e588-4978-d66f-5c88b58b2f5e"
      },
      "id": "VwkzicO8VYyx",
      "execution_count": null,
      "outputs": [
        {
          "output_type": "stream",
          "name": "stdout",
          "text": [
            "{2: 4, 3: 9, 4: 16, 5: 25, 6: 36, 7: 49, 8: 64, 9: 81, 10: 100, 11: 121}\n"
          ]
        }
      ]
    },
    {
      "cell_type": "code",
      "source": [
        "# Iterate over key-value pairs and print them\n",
        "for key, value in squares_dict.items():\n",
        "    print(key, value)\n"
      ],
      "metadata": {
        "colab": {
          "base_uri": "https://localhost:8080/"
        },
        "id": "XPtF85GqVjc5",
        "outputId": "8c52c52a-18fb-4176-c15b-fe2b1b978344"
      },
      "id": "XPtF85GqVjc5",
      "execution_count": null,
      "outputs": [
        {
          "output_type": "stream",
          "name": "stdout",
          "text": [
            "2 4\n",
            "3 9\n",
            "4 16\n",
            "5 25\n",
            "6 36\n",
            "7 49\n",
            "8 64\n",
            "9 81\n",
            "10 100\n",
            "11 121\n"
          ]
        }
      ]
    },
    {
      "cell_type": "code",
      "source": [
        "# Create a dictionary with cubes of the first 10 positive integers\n",
        "cubes_dict = {x: x**3 for x in range(1, 11)}\n",
        "print(cubes_dict)\n"
      ],
      "metadata": {
        "colab": {
          "base_uri": "https://localhost:8080/"
        },
        "id": "BTDOC0WZVs_A",
        "outputId": "6c6d9e65-fe36-491e-b25c-8d990766000f"
      },
      "id": "BTDOC0WZVs_A",
      "execution_count": null,
      "outputs": [
        {
          "output_type": "stream",
          "name": "stdout",
          "text": [
            "{1: 1, 2: 8, 3: 27, 4: 64, 5: 125, 6: 216, 7: 343, 8: 512, 9: 729, 10: 1000}\n"
          ]
        }
      ]
    },
    {
      "cell_type": "code",
      "source": [
        "# First dictionary with keys as first 5 positive integers\n",
        "dict1 = {x: x**2 for x in range(1, 6)}\n",
        "\n",
        "# Second dictionary with keys as the next 5 positive integers\n",
        "dict2 = {x: x**2 for x in range(6, 11)}\n",
        "\n",
        "# Merge the dictionaries\n",
        "merged_dict = {**dict1, **dict2}\n",
        "print(merged_dict)\n"
      ],
      "metadata": {
        "colab": {
          "base_uri": "https://localhost:8080/"
        },
        "id": "YU9eZXCAV7EP",
        "outputId": "1001d7d1-2795-4ca7-8c01-0f93f337567c"
      },
      "id": "YU9eZXCAV7EP",
      "execution_count": null,
      "outputs": [
        {
          "output_type": "stream",
          "name": "stdout",
          "text": [
            "{1: 1, 2: 4, 3: 9, 4: 16, 5: 25, 6: 36, 7: 49, 8: 64, 9: 81, 10: 100}\n"
          ]
        }
      ]
    },
    {
      "cell_type": "code",
      "source": [
        "# Create a nested dictionary for a student\n",
        "student = {\n",
        "    \"name\": \"John\",\n",
        "    \"age\": 16,\n",
        "    \"grades\": {\n",
        "        \"math\": 90,\n",
        "        \"science\": 85,\n",
        "        \"english\": 88\n",
        "    }\n",
        "}\n",
        "print(student)\n"
      ],
      "metadata": {
        "colab": {
          "base_uri": "https://localhost:8080/"
        },
        "id": "2yMX0U8wWdpu",
        "outputId": "a1cc6656-661d-44e6-8b98-614ec57bd6c8"
      },
      "id": "2yMX0U8wWdpu",
      "execution_count": null,
      "outputs": [
        {
          "output_type": "stream",
          "name": "stdout",
          "text": [
            "{'name': 'John', 'age': 16, 'grades': {'math': 90, 'science': 85, 'english': 88}}\n"
          ]
        }
      ]
    },
    {
      "cell_type": "code",
      "source": [
        "# Dictionary with keys as integers and values as lists of multiples\n",
        "multiples_dict = {x: [x * i for i in range(1, 6)] for x in range(1, 6)}\n",
        "print(multiples_dict)\n"
      ],
      "metadata": {
        "colab": {
          "base_uri": "https://localhost:8080/"
        },
        "id": "6SDpWReYWjl2",
        "outputId": "8e9f64c1-db98-4c62-9e34-62dcd8d1f7f9"
      },
      "id": "6SDpWReYWjl2",
      "execution_count": null,
      "outputs": [
        {
          "output_type": "stream",
          "name": "stdout",
          "text": [
            "{1: [1, 2, 3, 4, 5], 2: [2, 4, 6, 8, 10], 3: [3, 6, 9, 12, 15], 4: [4, 8, 12, 16, 20], 5: [5, 10, 15, 20, 25]}\n"
          ]
        }
      ]
    },
    {
      "cell_type": "code",
      "source": [
        "# Dictionary with keys as integers and values as tuples\n",
        "tuple_dict = {x: (x, x**2) for x in range(1, 6)}\n",
        "print(tuple_dict)\n"
      ],
      "metadata": {
        "colab": {
          "base_uri": "https://localhost:8080/"
        },
        "id": "1dd10U9gWtCv",
        "outputId": "4073bac6-a7ae-4a4c-ab4c-d189cf3ad9bc"
      },
      "id": "1dd10U9gWtCv",
      "execution_count": null,
      "outputs": [
        {
          "output_type": "stream",
          "name": "stdout",
          "text": [
            "{1: (1, 1), 2: (2, 4), 3: (3, 9), 4: (4, 16), 5: (5, 25)}\n"
          ]
        }
      ]
    },
    {
      "cell_type": "code",
      "source": [
        "# Convert a dictionary to a list of tuples\n",
        "tuple_list = list(squares_dict.items())\n",
        "print(tuple_list)\n"
      ],
      "metadata": {
        "colab": {
          "base_uri": "https://localhost:8080/"
        },
        "id": "Vzywl7guWzVN",
        "outputId": "0cb8f152-46e7-45ac-cee1-4b20ece29d0e"
      },
      "id": "Vzywl7guWzVN",
      "execution_count": null,
      "outputs": [
        {
          "output_type": "stream",
          "name": "stdout",
          "text": [
            "[(2, 4), (3, 9), (4, 16), (5, 25), (6, 36), (7, 49), (8, 64), (9, 81), (10, 100), (11, 121)]\n"
          ]
        }
      ]
    },
    {
      "cell_type": "code",
      "source": [
        "# Filter dictionary to include only even keys\n",
        "even_keys_dict = {k: v for k, v in squares_dict.items() if k % 2 == 0}\n",
        "print(even_keys_dict)\n"
      ],
      "metadata": {
        "colab": {
          "base_uri": "https://localhost:8080/"
        },
        "id": "DwkelT_sW4mt",
        "outputId": "f0357e12-4be8-42d8-f610-e413a8223ebf"
      },
      "id": "DwkelT_sW4mt",
      "execution_count": null,
      "outputs": [
        {
          "output_type": "stream",
          "name": "stdout",
          "text": [
            "{2: 4, 4: 16, 6: 36, 8: 64, 10: 100}\n"
          ]
        }
      ]
    },
    {
      "cell_type": "code",
      "source": [
        "# Swap keys and values in the dictionary\n",
        "swapped_dict = {v: k for k, v in squares_dict.items()}\n",
        "print(swapped_dict)\n"
      ],
      "metadata": {
        "colab": {
          "base_uri": "https://localhost:8080/"
        },
        "id": "dCYcvkqNW_7s",
        "outputId": "60135304-9552-4eae-e684-cb580c589648"
      },
      "id": "dCYcvkqNW_7s",
      "execution_count": null,
      "outputs": [
        {
          "output_type": "stream",
          "name": "stdout",
          "text": [
            "{4: 2, 9: 3, 16: 4, 25: 5, 36: 6, 49: 7, 64: 8, 81: 9, 100: 10, 121: 11}\n"
          ]
        }
      ]
    },
    {
      "cell_type": "code",
      "source": [
        "from collections import defaultdict\n",
        "\n",
        "# Create a default dictionary with empty list as default values\n",
        "default_dict = defaultdict(list)\n",
        "\n",
        "# Add elements to the lists\n",
        "default_dict[1].append(\"a\")\n",
        "default_dict[2].extend([\"b\", \"c\"])\n",
        "print(default_dict)\n"
      ],
      "metadata": {
        "colab": {
          "base_uri": "https://localhost:8080/"
        },
        "id": "zKNJxNdSXFml",
        "outputId": "a9249d16-f63d-4f9f-9e77-dad65f79be4b"
      },
      "id": "zKNJxNdSXFml",
      "execution_count": null,
      "outputs": [
        {
          "output_type": "stream",
          "name": "stdout",
          "text": [
            "defaultdict(<class 'list'>, {1: ['a'], 2: ['b', 'c']})\n"
          ]
        }
      ]
    },
    {
      "cell_type": "code",
      "source": [
        "def char_count(string):\n",
        "    return {char: string.count(char) for char in set(string)}\n",
        "\n",
        "# Example usage\n",
        "result = char_count(\"hello world\")\n",
        "print(result)\n"
      ],
      "metadata": {
        "colab": {
          "base_uri": "https://localhost:8080/"
        },
        "id": "UiA-RpJZXOHL",
        "outputId": "56e4d8f6-9ed2-46e4-af00-42edde04dd19"
      },
      "id": "UiA-RpJZXOHL",
      "execution_count": null,
      "outputs": [
        {
          "output_type": "stream",
          "name": "stdout",
          "text": [
            "{'l': 3, 'r': 1, 'h': 1, 'w': 1, 'd': 1, 'e': 1, ' ': 1, 'o': 2}\n"
          ]
        }
      ]
    },
    {
      "cell_type": "code",
      "source": [
        "import json\n",
        "\n",
        "# Create a dictionary representing a book\n",
        "book = {\n",
        "    \"title\": \"1984\",\n",
        "    \"author\": \"George Orwell\",\n",
        "    \"year\": 1949,\n",
        "    \"genre\": \"Dystopian\"\n",
        "}\n",
        "\n",
        "# Convert the dictionary to a JSON string\n",
        "book_json = json.dumps(book)\n",
        "print(book_json)\n"
      ],
      "metadata": {
        "colab": {
          "base_uri": "https://localhost:8080/"
        },
        "id": "3Bl2WRnfXQnd",
        "outputId": "cedc01bd-fc41-4ba3-e069-d16aef2f9b7f"
      },
      "id": "3Bl2WRnfXQnd",
      "execution_count": null,
      "outputs": [
        {
          "output_type": "stream",
          "name": "stdout",
          "text": [
            "{\"title\": \"1984\", \"author\": \"George Orwell\", \"year\": 1949, \"genre\": \"Dystopian\"}\n"
          ]
        }
      ]
    }
  ],
  "metadata": {
    "kernelspec": {
      "display_name": "Python 3",
      "language": "python",
      "name": "python3"
    },
    "language_info": {
      "codemirror_mode": {
        "name": "ipython",
        "version": 3
      },
      "file_extension": ".py",
      "mimetype": "text/x-python",
      "name": "python",
      "nbconvert_exporter": "python",
      "pygments_lexer": "ipython3",
      "version": "3.9.7"
    },
    "colab": {
      "provenance": [],
      "include_colab_link": true
    }
  },
  "nbformat": 4,
  "nbformat_minor": 5
}